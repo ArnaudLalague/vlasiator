{
 "metadata": {
  "name": "Virtual spacecraft"
 },
 "nbformat": 3,
 "nbformat_minor": 0,
 "worksheets": [
  {
   "cells": [
    {
     "cell_type": "code",
     "collapsed": false,
     "input": [
      "import os,sys,glob\n",
      "import numpy as np\n",
      "sys.path.insert(0,\"/home/alfthan/vlasiator/trunk/tools/pyVlsv\")\n",
      "import vlsvreader\n",
      "reload(vlsvreader)\n",
      "\n",
      "def get_data_limit(data,time,time_limit):\n",
      "    \"\"\" Return data limit corresponding to the timelimit (tuple)\"\"\"\n",
      "    start=np.where(time >= time_limits[0])[0]\n",
      "    end=np.where(time > time_limits[1])[0]\n",
      "    if(len(start)==0):\n",
      "        start_i=0\n",
      "    else:\n",
      "        start_i=start[0]\n",
      "    if(len(end)==0):\n",
      "        end_i=len(data)\n",
      "    else:\n",
      "        end_i=end[0]\n",
      "        \n",
      "    min_data = min(data[start_i:end_i])\n",
      "    max_data = max(data[start_i:end_i])\n",
      "    delta = max_data - min_data\n",
      "    return (min_data-delta*0.05,max_data+0.05*delta)\n",
      "    \n"
     ],
     "language": "python",
     "metadata": {},
     "outputs": [],
     "prompt_number": 164
    },
    {
     "cell_type": "code",
     "collapsed": false,
     "input": [
      "\n",
      "\n",
      "#for these cell ids we will read in data\n",
      "cell_ids=[ 137114,135712 ]\n",
      "#name that we give to the datapoints\n",
      "cell_ids_label=[\"Foreshock\",\"Magenetosheath\" ]\n",
      "\n",
      "#These are the vlsv files\n",
      "vlsv_files=sorted(glob.glob('/home/alfthan/arkki/vlasiator-disk/2D/AAE/vlsv_files/grid.*0.vlsv'))\n",
      "\n",
      "\n",
      "#prepare empty arrays. Indices witll go like data[index in cell_ids][index in vlsv_files][vector component] \n",
      "p_B=np.zeros( (len(cell_ids),len(vlsv_files),3), dtype=np.float )\n",
      "p_rho=np.zeros( (len(cell_ids),len(vlsv_files)), dtype=np.float )\n",
      "p_v=np.zeros( (len(cell_ids),len(vlsv_files),3), dtype=np.float )\n",
      "p_time=np.zeros( len(vlsv_files), dtype=np.float )\n",
      "\n",
      "#loop over files\n",
      "for file_i,file_name in enumerate(vlsv_files):\n",
      "    sys.stdout.write(\"\\r %s %d / %d\" % (file_name,  file_i+1, len(vlsv_files)) )\n",
      "    sys.stdout.flush()\n",
      "    if os.path.isfile(file_name):\n",
      "         #open file (reads in xml and indices of cells in file)\n",
      "        vlsv_file=vlsvreader.VlsvFile(file_name)\n",
      "        #read in time\n",
      "        p_time[file_i]=vlsv_file.read(\"t\",tag=\"PARAMETERS\")\n",
      "        # loop over cell ids for which we want to read in data\n",
      "        for cell_id_i,cell_id in enumerate(cell_ids):\n",
      "            #read in data for this particular cell\n",
      "            p_B[cell_id_i][file_i]=vlsv_file.read(\"B\",read_single_cellid=cell_id)\n",
      "            p_rho[cell_id_i][file_i]=vlsv_file.read(\"rho\",read_single_cellid=cell_id)\n",
      "            p_v[cell_id_i][file_i]=vlsv_file.read(\"rho_v\",read_single_cellid=cell_id)/p_rho[cell_id_i][file_i]\n",
      "    \n",
      "sys.stdout.write(\"\\rDone! %d files read in\" % len(vlsv_files) )\n",
      "sys.stdout.flush()"
     ],
     "language": "python",
     "metadata": {},
     "outputs": [
      {
       "output_type": "stream",
       "stream": "stdout",
       "text": [
        "\r",
        " /home/alfthan/arkki/vlasiator-disk/2D/AAE/vlsv_files/grid.0000000.vlsv 1 / 85"
       ]
      },
      {
       "output_type": "stream",
       "stream": "stdout",
       "text": [
        "\r",
        " /home/alfthan/arkki/vlasiator-disk/2D/AAE/vlsv_files/grid.0000010.vlsv 2 / 85"
       ]
      },
      {
       "output_type": "stream",
       "stream": "stdout",
       "text": [
        "\r",
        " /home/alfthan/arkki/vlasiator-disk/2D/AAE/vlsv_files/grid.0000020.vlsv 3 / 85"
       ]
      },
      {
       "output_type": "stream",
       "stream": "stdout",
       "text": [
        "\r",
        " /home/alfthan/arkki/vlasiator-disk/2D/AAE/vlsv_files/grid.0000030.vlsv 4 / 85"
       ]
      },
      {
       "output_type": "stream",
       "stream": "stdout",
       "text": [
        "\r",
        " /home/alfthan/arkki/vlasiator-disk/2D/AAE/vlsv_files/grid.0000040.vlsv 5 / 85"
       ]
      },
      {
       "output_type": "stream",
       "stream": "stdout",
       "text": [
        "\r",
        " /home/alfthan/arkki/vlasiator-disk/2D/AAE/vlsv_files/grid.0000050.vlsv 6 / 85"
       ]
      },
      {
       "output_type": "stream",
       "stream": "stdout",
       "text": [
        "\r",
        " /home/alfthan/arkki/vlasiator-disk/2D/AAE/vlsv_files/grid.0000060.vlsv 7 / 85"
       ]
      },
      {
       "output_type": "stream",
       "stream": "stdout",
       "text": [
        "\r",
        " /home/alfthan/arkki/vlasiator-disk/2D/AAE/vlsv_files/grid.0000070.vlsv 8 / 85"
       ]
      },
      {
       "output_type": "stream",
       "stream": "stdout",
       "text": [
        "\r",
        " /home/alfthan/arkki/vlasiator-disk/2D/AAE/vlsv_files/grid.0000080.vlsv 9 / 85"
       ]
      },
      {
       "output_type": "stream",
       "stream": "stdout",
       "text": [
        "\r",
        " /home/alfthan/arkki/vlasiator-disk/2D/AAE/vlsv_files/grid.0000090.vlsv 10 / 85"
       ]
      },
      {
       "output_type": "stream",
       "stream": "stdout",
       "text": [
        "\r",
        " /home/alfthan/arkki/vlasiator-disk/2D/AAE/vlsv_files/grid.0000100.vlsv 11 / 85"
       ]
      },
      {
       "output_type": "stream",
       "stream": "stdout",
       "text": [
        "\r",
        " /home/alfthan/arkki/vlasiator-disk/2D/AAE/vlsv_files/grid.0000110.vlsv 12 / 85"
       ]
      },
      {
       "output_type": "stream",
       "stream": "stdout",
       "text": [
        "\r",
        " /home/alfthan/arkki/vlasiator-disk/2D/AAE/vlsv_files/grid.0000120.vlsv 13 / 85"
       ]
      },
      {
       "output_type": "stream",
       "stream": "stdout",
       "text": [
        "\r",
        " /home/alfthan/arkki/vlasiator-disk/2D/AAE/vlsv_files/grid.0000130.vlsv 14 / 85"
       ]
      },
      {
       "output_type": "stream",
       "stream": "stdout",
       "text": [
        "\r",
        " /home/alfthan/arkki/vlasiator-disk/2D/AAE/vlsv_files/grid.0000140.vlsv 15 / 85"
       ]
      },
      {
       "output_type": "stream",
       "stream": "stdout",
       "text": [
        "\r",
        " /home/alfthan/arkki/vlasiator-disk/2D/AAE/vlsv_files/grid.0000150.vlsv 16 / 85"
       ]
      },
      {
       "output_type": "stream",
       "stream": "stdout",
       "text": [
        "\r",
        " /home/alfthan/arkki/vlasiator-disk/2D/AAE/vlsv_files/grid.0000160.vlsv 17 / 85"
       ]
      },
      {
       "output_type": "stream",
       "stream": "stdout",
       "text": [
        "\r",
        " /home/alfthan/arkki/vlasiator-disk/2D/AAE/vlsv_files/grid.0000170.vlsv 18 / 85"
       ]
      },
      {
       "output_type": "stream",
       "stream": "stdout",
       "text": [
        "\r",
        " /home/alfthan/arkki/vlasiator-disk/2D/AAE/vlsv_files/grid.0000180.vlsv 19 / 85"
       ]
      },
      {
       "output_type": "stream",
       "stream": "stdout",
       "text": [
        "\r",
        " /home/alfthan/arkki/vlasiator-disk/2D/AAE/vlsv_files/grid.0000190.vlsv 20 / 85"
       ]
      },
      {
       "output_type": "stream",
       "stream": "stdout",
       "text": [
        "\r",
        " /home/alfthan/arkki/vlasiator-disk/2D/AAE/vlsv_files/grid.0000200.vlsv 21 / 85"
       ]
      },
      {
       "output_type": "stream",
       "stream": "stdout",
       "text": [
        "\r",
        " /home/alfthan/arkki/vlasiator-disk/2D/AAE/vlsv_files/grid.0000210.vlsv 22 / 85"
       ]
      },
      {
       "output_type": "stream",
       "stream": "stdout",
       "text": [
        "\r",
        " /home/alfthan/arkki/vlasiator-disk/2D/AAE/vlsv_files/grid.0000220.vlsv 23 / 85"
       ]
      },
      {
       "output_type": "stream",
       "stream": "stdout",
       "text": [
        "\r",
        " /home/alfthan/arkki/vlasiator-disk/2D/AAE/vlsv_files/grid.0000230.vlsv 24 / 85"
       ]
      },
      {
       "output_type": "stream",
       "stream": "stdout",
       "text": [
        "\r",
        " /home/alfthan/arkki/vlasiator-disk/2D/AAE/vlsv_files/grid.0000240.vlsv 25 / 85"
       ]
      },
      {
       "output_type": "stream",
       "stream": "stdout",
       "text": [
        "\r",
        " /home/alfthan/arkki/vlasiator-disk/2D/AAE/vlsv_files/grid.0000250.vlsv 26 / 85"
       ]
      },
      {
       "output_type": "stream",
       "stream": "stdout",
       "text": [
        "\r",
        " /home/alfthan/arkki/vlasiator-disk/2D/AAE/vlsv_files/grid.0000260.vlsv 27 / 85"
       ]
      },
      {
       "output_type": "stream",
       "stream": "stdout",
       "text": [
        "\r",
        " /home/alfthan/arkki/vlasiator-disk/2D/AAE/vlsv_files/grid.0000270.vlsv 28 / 85"
       ]
      },
      {
       "output_type": "stream",
       "stream": "stdout",
       "text": [
        "\r",
        " /home/alfthan/arkki/vlasiator-disk/2D/AAE/vlsv_files/grid.0000280.vlsv 29 / 85"
       ]
      },
      {
       "output_type": "stream",
       "stream": "stdout",
       "text": [
        "\r",
        " /home/alfthan/arkki/vlasiator-disk/2D/AAE/vlsv_files/grid.0000290.vlsv 30 / 85"
       ]
      },
      {
       "output_type": "stream",
       "stream": "stdout",
       "text": [
        "\r",
        " /home/alfthan/arkki/vlasiator-disk/2D/AAE/vlsv_files/grid.0000300.vlsv 31 / 85"
       ]
      },
      {
       "output_type": "stream",
       "stream": "stdout",
       "text": [
        "\r",
        " /home/alfthan/arkki/vlasiator-disk/2D/AAE/vlsv_files/grid.0000310.vlsv 32 / 85"
       ]
      },
      {
       "output_type": "stream",
       "stream": "stdout",
       "text": [
        "\r",
        " /home/alfthan/arkki/vlasiator-disk/2D/AAE/vlsv_files/grid.0000320.vlsv 33 / 85"
       ]
      },
      {
       "output_type": "stream",
       "stream": "stdout",
       "text": [
        "\r",
        " /home/alfthan/arkki/vlasiator-disk/2D/AAE/vlsv_files/grid.0000330.vlsv 34 / 85"
       ]
      },
      {
       "output_type": "stream",
       "stream": "stdout",
       "text": [
        "\r",
        " /home/alfthan/arkki/vlasiator-disk/2D/AAE/vlsv_files/grid.0000340.vlsv 35 / 85"
       ]
      },
      {
       "output_type": "stream",
       "stream": "stdout",
       "text": [
        "\r",
        " /home/alfthan/arkki/vlasiator-disk/2D/AAE/vlsv_files/grid.0000350.vlsv 36 / 85"
       ]
      },
      {
       "output_type": "stream",
       "stream": "stdout",
       "text": [
        "\r",
        " /home/alfthan/arkki/vlasiator-disk/2D/AAE/vlsv_files/grid.0000360.vlsv 37 / 85"
       ]
      },
      {
       "output_type": "stream",
       "stream": "stdout",
       "text": [
        "\r",
        " /home/alfthan/arkki/vlasiator-disk/2D/AAE/vlsv_files/grid.0000370.vlsv 38 / 85"
       ]
      },
      {
       "output_type": "stream",
       "stream": "stdout",
       "text": [
        "\r",
        " /home/alfthan/arkki/vlasiator-disk/2D/AAE/vlsv_files/grid.0000380.vlsv 39 / 85"
       ]
      },
      {
       "output_type": "stream",
       "stream": "stdout",
       "text": [
        "\r",
        " /home/alfthan/arkki/vlasiator-disk/2D/AAE/vlsv_files/grid.0000390.vlsv 40 / 85"
       ]
      },
      {
       "output_type": "stream",
       "stream": "stdout",
       "text": [
        "\r",
        " /home/alfthan/arkki/vlasiator-disk/2D/AAE/vlsv_files/grid.0000400.vlsv 41 / 85"
       ]
      },
      {
       "output_type": "stream",
       "stream": "stdout",
       "text": [
        "\r",
        " /home/alfthan/arkki/vlasiator-disk/2D/AAE/vlsv_files/grid.0000410.vlsv 42 / 85"
       ]
      },
      {
       "output_type": "stream",
       "stream": "stdout",
       "text": [
        "\r",
        " /home/alfthan/arkki/vlasiator-disk/2D/AAE/vlsv_files/grid.0000420.vlsv 43 / 85"
       ]
      },
      {
       "output_type": "stream",
       "stream": "stdout",
       "text": [
        "\r",
        " /home/alfthan/arkki/vlasiator-disk/2D/AAE/vlsv_files/grid.0000430.vlsv 44 / 85"
       ]
      },
      {
       "output_type": "stream",
       "stream": "stdout",
       "text": [
        "\r",
        " /home/alfthan/arkki/vlasiator-disk/2D/AAE/vlsv_files/grid.0000440.vlsv 45 / 85"
       ]
      },
      {
       "output_type": "stream",
       "stream": "stdout",
       "text": [
        "\r",
        " /home/alfthan/arkki/vlasiator-disk/2D/AAE/vlsv_files/grid.0000450.vlsv 46 / 85"
       ]
      },
      {
       "output_type": "stream",
       "stream": "stdout",
       "text": [
        "\r",
        " /home/alfthan/arkki/vlasiator-disk/2D/AAE/vlsv_files/grid.0000460.vlsv 47 / 85"
       ]
      },
      {
       "output_type": "stream",
       "stream": "stdout",
       "text": [
        "\r",
        " /home/alfthan/arkki/vlasiator-disk/2D/AAE/vlsv_files/grid.0000470.vlsv 48 / 85"
       ]
      },
      {
       "output_type": "stream",
       "stream": "stdout",
       "text": [
        "\r",
        " /home/alfthan/arkki/vlasiator-disk/2D/AAE/vlsv_files/grid.0000480.vlsv 49 / 85"
       ]
      },
      {
       "output_type": "stream",
       "stream": "stdout",
       "text": [
        "\r",
        " /home/alfthan/arkki/vlasiator-disk/2D/AAE/vlsv_files/grid.0000490.vlsv 50 / 85"
       ]
      },
      {
       "output_type": "stream",
       "stream": "stdout",
       "text": [
        "\r",
        " /home/alfthan/arkki/vlasiator-disk/2D/AAE/vlsv_files/grid.0000500.vlsv 51 / 85"
       ]
      },
      {
       "output_type": "stream",
       "stream": "stdout",
       "text": [
        "\r",
        " /home/alfthan/arkki/vlasiator-disk/2D/AAE/vlsv_files/grid.0000510.vlsv 52 / 85"
       ]
      },
      {
       "output_type": "stream",
       "stream": "stdout",
       "text": [
        "\r",
        " /home/alfthan/arkki/vlasiator-disk/2D/AAE/vlsv_files/grid.0000520.vlsv 53 / 85"
       ]
      },
      {
       "output_type": "stream",
       "stream": "stdout",
       "text": [
        "\r",
        " /home/alfthan/arkki/vlasiator-disk/2D/AAE/vlsv_files/grid.0000530.vlsv 54 / 85"
       ]
      },
      {
       "output_type": "stream",
       "stream": "stdout",
       "text": [
        "\r",
        " /home/alfthan/arkki/vlasiator-disk/2D/AAE/vlsv_files/grid.0000540.vlsv 55 / 85"
       ]
      },
      {
       "output_type": "stream",
       "stream": "stdout",
       "text": [
        "\r",
        " /home/alfthan/arkki/vlasiator-disk/2D/AAE/vlsv_files/grid.0000550.vlsv 56 / 85"
       ]
      },
      {
       "output_type": "stream",
       "stream": "stdout",
       "text": [
        "\r",
        " /home/alfthan/arkki/vlasiator-disk/2D/AAE/vlsv_files/grid.0000560.vlsv 57 / 85"
       ]
      },
      {
       "output_type": "stream",
       "stream": "stdout",
       "text": [
        "\r",
        " /home/alfthan/arkki/vlasiator-disk/2D/AAE/vlsv_files/grid.0000570.vlsv 58 / 85"
       ]
      },
      {
       "output_type": "stream",
       "stream": "stdout",
       "text": [
        "\r",
        " /home/alfthan/arkki/vlasiator-disk/2D/AAE/vlsv_files/grid.0000580.vlsv 59 / 85"
       ]
      },
      {
       "output_type": "stream",
       "stream": "stdout",
       "text": [
        "\r",
        " /home/alfthan/arkki/vlasiator-disk/2D/AAE/vlsv_files/grid.0000590.vlsv 60 / 85"
       ]
      },
      {
       "output_type": "stream",
       "stream": "stdout",
       "text": [
        "\r",
        " /home/alfthan/arkki/vlasiator-disk/2D/AAE/vlsv_files/grid.0000600.vlsv 61 / 85"
       ]
      },
      {
       "output_type": "stream",
       "stream": "stdout",
       "text": [
        "\r",
        " /home/alfthan/arkki/vlasiator-disk/2D/AAE/vlsv_files/grid.0000610.vlsv 62 / 85"
       ]
      },
      {
       "output_type": "stream",
       "stream": "stdout",
       "text": [
        "\r",
        " /home/alfthan/arkki/vlasiator-disk/2D/AAE/vlsv_files/grid.0000620.vlsv 63 / 85"
       ]
      },
      {
       "output_type": "stream",
       "stream": "stdout",
       "text": [
        "\r",
        " /home/alfthan/arkki/vlasiator-disk/2D/AAE/vlsv_files/grid.0000630.vlsv 64 / 85"
       ]
      },
      {
       "output_type": "stream",
       "stream": "stdout",
       "text": [
        "\r",
        " /home/alfthan/arkki/vlasiator-disk/2D/AAE/vlsv_files/grid.0000640.vlsv 65 / 85"
       ]
      },
      {
       "output_type": "stream",
       "stream": "stdout",
       "text": [
        "\r",
        " /home/alfthan/arkki/vlasiator-disk/2D/AAE/vlsv_files/grid.0000650.vlsv 66 / 85"
       ]
      },
      {
       "output_type": "stream",
       "stream": "stdout",
       "text": [
        "\r",
        " /home/alfthan/arkki/vlasiator-disk/2D/AAE/vlsv_files/grid.0000660.vlsv 67 / 85"
       ]
      },
      {
       "output_type": "stream",
       "stream": "stdout",
       "text": [
        "\r",
        " /home/alfthan/arkki/vlasiator-disk/2D/AAE/vlsv_files/grid.0000670.vlsv 68 / 85"
       ]
      },
      {
       "output_type": "stream",
       "stream": "stdout",
       "text": [
        "\r",
        " /home/alfthan/arkki/vlasiator-disk/2D/AAE/vlsv_files/grid.0000680.vlsv 69 / 85"
       ]
      },
      {
       "output_type": "stream",
       "stream": "stdout",
       "text": [
        "\r",
        " /home/alfthan/arkki/vlasiator-disk/2D/AAE/vlsv_files/grid.0000690.vlsv 70 / 85"
       ]
      },
      {
       "output_type": "stream",
       "stream": "stdout",
       "text": [
        "\r",
        " /home/alfthan/arkki/vlasiator-disk/2D/AAE/vlsv_files/grid.0000700.vlsv 71 / 85"
       ]
      },
      {
       "output_type": "stream",
       "stream": "stdout",
       "text": [
        "\r",
        " /home/alfthan/arkki/vlasiator-disk/2D/AAE/vlsv_files/grid.0000710.vlsv 72 / 85"
       ]
      },
      {
       "output_type": "stream",
       "stream": "stdout",
       "text": [
        "\r",
        " /home/alfthan/arkki/vlasiator-disk/2D/AAE/vlsv_files/grid.0000720.vlsv 73 / 85"
       ]
      },
      {
       "output_type": "stream",
       "stream": "stdout",
       "text": [
        "\r",
        " /home/alfthan/arkki/vlasiator-disk/2D/AAE/vlsv_files/grid.0000730.vlsv 74 / 85"
       ]
      },
      {
       "output_type": "stream",
       "stream": "stdout",
       "text": [
        "\r",
        " /home/alfthan/arkki/vlasiator-disk/2D/AAE/vlsv_files/grid.0000740.vlsv 75 / 85"
       ]
      },
      {
       "output_type": "stream",
       "stream": "stdout",
       "text": [
        "\r",
        " /home/alfthan/arkki/vlasiator-disk/2D/AAE/vlsv_files/grid.0000750.vlsv 76 / 85"
       ]
      },
      {
       "output_type": "stream",
       "stream": "stdout",
       "text": [
        "\r",
        " /home/alfthan/arkki/vlasiator-disk/2D/AAE/vlsv_files/grid.0000760.vlsv 77 / 85"
       ]
      },
      {
       "output_type": "stream",
       "stream": "stdout",
       "text": [
        "\r",
        " /home/alfthan/arkki/vlasiator-disk/2D/AAE/vlsv_files/grid.0000770.vlsv 78 / 85"
       ]
      },
      {
       "output_type": "stream",
       "stream": "stdout",
       "text": [
        "\r",
        " /home/alfthan/arkki/vlasiator-disk/2D/AAE/vlsv_files/grid.0000780.vlsv 79 / 85"
       ]
      },
      {
       "output_type": "stream",
       "stream": "stdout",
       "text": [
        "\r",
        " /home/alfthan/arkki/vlasiator-disk/2D/AAE/vlsv_files/grid.0000790.vlsv 80 / 85"
       ]
      },
      {
       "output_type": "stream",
       "stream": "stdout",
       "text": [
        "\r",
        " /home/alfthan/arkki/vlasiator-disk/2D/AAE/vlsv_files/grid.0000800.vlsv 81 / 85"
       ]
      },
      {
       "output_type": "stream",
       "stream": "stdout",
       "text": [
        "\r",
        " /home/alfthan/arkki/vlasiator-disk/2D/AAE/vlsv_files/grid.0000810.vlsv 82 / 85"
       ]
      },
      {
       "output_type": "stream",
       "stream": "stdout",
       "text": [
        "\r",
        " /home/alfthan/arkki/vlasiator-disk/2D/AAE/vlsv_files/grid.0000820.vlsv 83 / 85"
       ]
      },
      {
       "output_type": "stream",
       "stream": "stdout",
       "text": [
        "\r",
        " /home/alfthan/arkki/vlasiator-disk/2D/AAE/vlsv_files/grid.0000830.vlsv 84 / 85"
       ]
      },
      {
       "output_type": "stream",
       "stream": "stdout",
       "text": [
        "\r",
        " /home/alfthan/arkki/vlasiator-disk/2D/AAE/vlsv_files/grid.0000840.vlsv 85 / 85"
       ]
      },
      {
       "output_type": "stream",
       "stream": "stdout",
       "text": [
        "\r",
        "Done! 85 files read in"
       ]
      }
     ],
     "prompt_number": 165
    },
    {
     "cell_type": "code",
     "collapsed": false,
     "input": [
      "#modify these, which cell index to plot\n",
      "p_index=1\n",
      "#offset for vx (km/s)\n",
      "vx_offset=0\n",
      "#set limits on time\n",
      "time_limits=(800,1700)\n",
      "\n",
      "\n",
      "\n",
      "import matplotlib.pyplot as plt\n",
      "\n",
      "plt.figure(1)\n",
      "plt.subplot(511)\n",
      "data=np.sqrt(np.sum(p_B[p_index]**2,axis=1))/1.0e-9\n",
      "plt.plot(p_time,data)\n",
      "plt.xlim(time_limits)\n",
      "plt.ylim(get_data_limit(data,p_time,time_limits))\n",
      "plt.ylabel('B (nT)')\n",
      "plt.title(cell_ids_label[p_index])\n",
      "\n",
      "plt.subplot(512)\n",
      "data=p_rho[p_index]/1e6\n",
      "plt.plot(p_time,data)\n",
      "plt.xlim(time_limits)\n",
      "plt.ylim(get_data_limit(data,p_time,time_limits))\n",
      "plt.ylabel('Rho (1/cm3)')\n",
      "#plt.xlabel('Time (s)')\n",
      "\n",
      "plt.subplot(513)\n",
      "data=p_v[p_index,:,0]/1000-vx_offset\n",
      "plt.plot(p_time,data)\n",
      "plt.xlim(time_limits)\n",
      "plt.ylim(get_data_limit(data,p_time,time_limits))\n",
      "plt.ylabel('Vx (rel. sw) (km/s)')\n",
      "#plt.xlabel('Time (s)')\n",
      "\n",
      "plt.subplot(514)\n",
      "data=p_v[p_index,:,1]/1000\n",
      "plt.plot(p_time,data)\n",
      "plt.xlim(time_limits)\n",
      "plt.ylim(get_data_limit(data,p_time,time_limits))\n",
      "plt.ylabel('Vy (km/s)')\n",
      "#plt.xlabel('Time (s)')\n",
      "\n",
      "plt.subplot(515)\n",
      "data=p_v[p_index,:,2]/1000\n",
      "plt.plot(p_time,data)\n",
      "plt.xlim(time_limits)\n",
      "plt.ylim(get_data_limit(data,p_time,time_limits))\n",
      "plt.ylabel('Vz (km/s)')\n",
      "\n",
      "plt.xlabel('Time (s)')\n",
      "\n",
      "\n",
      "\n",
      "\n",
      "plt.show()\n",
      "\n"
     ],
     "language": "python",
     "metadata": {},
     "outputs": [],
     "prompt_number": 166
    },
    {
     "cell_type": "code",
     "collapsed": false,
     "input": [
      "reset"
     ],
     "language": "python",
     "metadata": {},
     "outputs": [],
     "prompt_number": 163
    },
    {
     "cell_type": "code",
     "collapsed": false,
     "input": [],
     "language": "python",
     "metadata": {},
     "outputs": []
    }
   ],
   "metadata": {}
  }
 ]
}